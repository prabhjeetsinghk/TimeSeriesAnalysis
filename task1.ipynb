{
 "cells": [
  {
   "cell_type": "markdown",
   "metadata": {},
   "source": [
    "**<h1>Data Preparation and Exploration**"
   ]
  },
  {
   "cell_type": "code",
   "execution_count": null,
   "metadata": {},
   "outputs": [],
   "source": [
    "# Importing Python libraries\n",
    "\n",
    "import pandas as pd\n",
    "import numpy as np\n",
    "\n",
    "from datetime import datetime\n",
    "\n",
    "import seaborn as sns\n",
    "import matplotlib.pyplot as plt\n",
    "import plotly.express as px\n",
    "import plotly.graph_objects as go\n",
    "\n",
    "from sklearn.metrics import mean_squared_error\n",
    "\n",
    "from statsmodels.tsa.statespace.sarimax import SARIMAX\n",
    "from statsmodels.tsa.stattools import adfuller\n",
    "from statsmodels.tsa.arima.model import ARIMA\n",
    "\n",
    "from tensorflow.keras.models import Sequential\n",
    "from tensorflow.keras.optimizers import Adam\n",
    "from tensorflow.keras.metrics import RootMeanSquaredError, MeanAbsoluteError\n",
    "from tensorflow.keras import layers\n",
    "\n",
    "import tensorflow as tf\n",
    "import warnings\n",
    "warnings.filterwarnings(\"ignore\")\n",
    "tf.get_logger().setLevel('ERROR')"
   ]
  },
  {
   "cell_type": "code",
   "execution_count": null,
   "metadata": {},
   "outputs": [],
   "source": [
    "# Reading CSV files, the file was downloaded from 'https://finance.yahoo.com/quote/NVDA/history/'\n",
    "df = pd.read_csv('NVDA.csv')\n",
    "df.info()"
   ]
  },
  {
   "cell_type": "code",
   "execution_count": null,
   "metadata": {},
   "outputs": [],
   "source": [
    "df.describe()"
   ]
  },
  {
   "cell_type": "markdown",
   "metadata": {},
   "source": [
    "Statistical Data related to the stock trends, Mean stock value remained within 46-47 as the stock ramined latent till 2015 after listed in 1999"
   ]
  },
  {
   "cell_type": "code",
   "execution_count": null,
   "metadata": {},
   "outputs": [],
   "source": [
    "# Feature engineering, adding new columns on the basis of Date after converting Date dtype from string to date object\n",
    "df['Date'] = pd.to_datetime(df['Date'])\n",
    "df['Day'] =  df['Date'].dt.day_name()\n",
    "df['month_name'] = df['Date'].dt.month_name()\n",
    "df['month'] = df['Date'].dt.month\n",
    "df['year'] = df['Date'].dt.year"
   ]
  },
  {
   "cell_type": "code",
   "execution_count": null,
   "metadata": {},
   "outputs": [],
   "source": [
    "# Ploting graph to display the lowest and highest stock point in the history of the NVIDIA\n",
    "\n",
    "lowest_value, low_loc = df['Low'].min(), df['Low'].idxmin()   # Lowest stock value and its location\n",
    "highest_value, high_loc = df['High'].max(), df['High'].idxmax() # Highest stock value and its location\n",
    "\n",
    "low_date = df['Date'][low_loc].strftime('%d,%m,%Y') # Date of lowest stock value\n",
    "high_date = df['Date'][high_loc].strftime('%d,%m,%Y') # Date of highest stock value\n",
    "\n",
    "ax = sns.barplot(x=['Lowest', 'Highest'], y=[lowest_value, highest_value])\n",
    "ax.set_title('Lowest and Highest stock values in history')\n",
    "ax.set_ylabel('Stock Value')\n",
    "ax.set_xlabel('Type')\n",
    "\n",
    "lowval = str(lowest_value) + ' on ' + str(low_date)\n",
    "highval= str(highest_value) + ' on ' + str(high_date)\n",
    "# Annotate the bars with dates\n",
    "ax.text(0, lowest_value, lowval , ha='center', va='bottom')\n",
    "ax.text(1, highest_value, highval, ha='center', va='bottom')\n",
    "\n",
    "# Show the plot\n",
    "plt.show()"
   ]
  },
  {
   "cell_type": "code",
   "execution_count": null,
   "metadata": {},
   "outputs": [],
   "source": [
    "# Create a figure object\n",
    "fig = go.Figure()\n",
    "\n",
    "# Add traces for each column (Open, High, Low, Close)\n",
    "for column in ['Open', 'High', 'Low', 'Close']:\n",
    "    fig.add_trace(go.Scatter(x=df['Date'], y=df[column], mode='lines+markers', name=column))\n",
    "\n",
    "# Update layout\n",
    "fig.update_layout(\n",
    "    title=\"Nvidia Stock Price Over Time\",\n",
    "    xaxis_title=\"Date\",\n",
    "    yaxis_title=\"Price\",\n",
    "    showlegend=True,\n",
    "    hovermode='x unified',\n",
    "    xaxis=dict(type='date'), # Set x-axis as date\n",
    "    height=600,\n",
    "    width=1400\n",
    ")\n",
    "\n",
    "# Show the plot\n",
    "fig.show()"
   ]
  },
  {
   "cell_type": "markdown",
   "metadata": {},
   "source": [
    "The stock was listed on January 22, 1999. From plot, we can clearly see that the stock remained latent till 2015 possible due to the demand of CPU by Intel. The stock saw upward trend after 2015 due to demands in GPU for gaming or other purpose. In 2022, there was a significant decline in the stock's value, likely influenced by the effects of the COVID-19 pandemic. After that the stock rebounded and resumed its upward trajectory, achieving new milestones. This could also be caused by the popularity of AI and need of high end GPU for model training."
   ]
  },
  {
   "cell_type": "markdown",
   "metadata": {},
   "source": [
    "**<h4>Exploring the year in which Nvidia stock rose the most**"
   ]
  },
  {
   "cell_type": "code",
   "execution_count": null,
   "metadata": {},
   "outputs": [],
   "source": [
    "years = df['year'].unique()\n",
    "stocks_yoy = dict(); Date = list(); Open = list(); Close = list(); Growth = list()\n",
    "for year in years:\n",
    "    open = df[df['year'] == year]['Open'].head(1).values[0]\n",
    "    close = df[df['year'] == year]['Close'].tail(1).values[0]\n",
    "    Date.append(year);    Open.append(open);    Close.append(close);    Growth.append(close - open)\n",
    "\n",
    "stocks_yoy = {\n",
    "    'Year':Date,\n",
    "    'Open':Open,\n",
    "    'Close':Close,\n",
    "    'Growth':Growth\n",
    "}\n",
    "df1 = pd.DataFrame(stocks_yoy)"
   ]
  },
  {
   "cell_type": "code",
   "execution_count": null,
   "metadata": {},
   "outputs": [],
   "source": [
    "# Create figure\n",
    "fig2 = go.Figure()\n",
    "\n",
    "# Add bars for growth\n",
    "fig2.add_trace(go.Bar(\n",
    "    x=df1['Year'],\n",
    "    y=df1['Growth'],\n",
    "    hoverinfo='x+name+y',\n",
    "    marker_color=['blue' if g >= 0 else 'red' for g in df1['Growth']],\n",
    "    name='Growth'\n",
    "))\n",
    "\n",
    "# Add open and close values on hover\n",
    "hover_text = [f'Open: {o:.2f}<br>Close: {c:.2f}' for o, c in zip(df1['Open'], df1['Close'])]\n",
    "fig2.update_traces(text=hover_text, textposition='outside')\n",
    "\n",
    "# Update layout\n",
    "fig2.update_layout(\n",
    "    title='Yearly Growth in stock price',\n",
    "    xaxis_title='Year',\n",
    "    yaxis_title='Growth',\n",
    "    hovermode='closest',\n",
    "    width=1400,  # Set width of the figure\n",
    "    height=600  # Set height of the figure\n",
    ")\n",
    "\n",
    "# Show the plot\n",
    "fig2.show()"
   ]
  },
  {
   "cell_type": "markdown",
   "metadata": {},
   "source": [
    "Above graph dipslays the growth of stock within each year starting from Year 1999, on hovering user can see the growth value. Growth is calculated by the closing stock value of the last traiding day of the year - opening stock value of the first trading day of the year"
   ]
  },
  {
   "cell_type": "code",
   "execution_count": null,
   "metadata": {},
   "outputs": [],
   "source": [
    "# Create a figure object\n",
    "fig1 = go.Figure()\n",
    "\n",
    "# Add traces for all 'Open','Low','High','Close' columns for year 2024\n",
    "for column in ['Open','Low','High','Close']:\n",
    "    if column not in ['Date', 'Day', 'month_name']:\n",
    "        fig1.add_trace(go.Scatter(x=df[df['year'] == 2024]['Date'], y=df[df['year'] == 2024][column], mode='lines+markers', name=column))\n",
    "\n",
    "# Update layout\n",
    "fig1.update_layout(\n",
    "    title=\"Stock Prices during year 2024\",\n",
    "    xaxis_title=\"Date\",\n",
    "    yaxis_title=\"Value\",\n",
    "    showlegend=True,\n",
    "    hovermode='x unified',\n",
    "    xaxis=dict(type='date')  # Set x-axis as date\n",
    ")\n",
    "\n",
    "# Show the plot\n",
    "fig1.show()\n"
   ]
  },
  {
   "cell_type": "markdown",
   "metadata": {},
   "source": [
    "Since, we now know that the in year 2024, stock saw the highest growth, so we are plotting the daily graph to showcase the trends of the stock"
   ]
  },
  {
   "cell_type": "markdown",
   "metadata": {},
   "source": [
    "**<h3>Stationarity Testing**"
   ]
  },
  {
   "cell_type": "code",
   "execution_count": null,
   "metadata": {},
   "outputs": [],
   "source": [
    "data = df[['Date', 'Close']]\n",
    "# Perform ADF test\n",
    "adf_result = adfuller(data['Close'])\n",
    "adf_statistic = adf_result[0]\n",
    "p_value = adf_result[1]\n",
    "\n",
    "print('ADF Statistic:', adf_statistic)\n",
    "print('p-value:', p_value)\n",
    "\n",
    "if p_value < 0.05:\n",
    "    print('p-value is less than 0.05. Data is stationary.')\n",
    "else:\n",
    "    print('p-value is greater than or equal to 0.05. Data may not be stationary.')\n",
    "\n",
    "# Plot the original data\n",
    "plt.figure(figsize=(10, 6))\n",
    "plt.plot(data['Close'], label='Original Data')\n",
    "plt.title('Original Close Prices')\n",
    "plt.legend()\n",
    "plt.show()\n",
    "\n",
    "# If data is not stationary, apply differencing\n",
    "if p_value >= 0.05:\n",
    "    # Perform differencing\n",
    "    data['Close_diff'] = data['Close'] - data['Close'].shift(1)\n",
    "    \n",
    "    # Test again for stationarity\n",
    "    adf_result_diff = adfuller(data['Close_diff'].dropna())\n",
    "    adf_statistic_diff = adf_result_diff[0]\n",
    "    p_value_diff = adf_result_diff[1]\n",
    "\n",
    "    print('ADF Statistic after differencing:', adf_statistic_diff)\n",
    "    print('p-value after differencing:', p_value_diff)\n",
    "\n",
    "    # Plot differenced data\n",
    "    plt.figure(figsize=(10, 6))\n",
    "    plt.plot(data['Close_diff'], label='Differenced Data')\n",
    "    plt.title('Differenced Close Prices')\n",
    "    plt.legend()\n",
    "    plt.show()"
   ]
  },
  {
   "cell_type": "code",
   "execution_count": null,
   "metadata": {},
   "outputs": [],
   "source": [
    "# Forecasting on Stationarity using SARIMA model\n",
    "\n",
    "# Split data into train and test sets\n",
    "train_size = int(len(data) * 0.8)\n",
    "train, test = data['Close_diff'][:train_size], data['Close_diff'][train_size:]\n",
    "\n",
    "# Fit SARIMA model\n",
    "model = SARIMAX(train, order=(1, 1, 1), seasonal_order=(1, 1, 1, 12))  # Example order\n",
    "model_fit = model.fit()\n",
    "\n",
    "# Forecast\n",
    "forecast = model_fit.forecast(steps=len(test))\n",
    "\n",
    "# Evaluate\n",
    "mse = mean_squared_error(test, forecast)\n",
    "print('Mean Squared Error:', mse)"
   ]
  },
  {
   "cell_type": "code",
   "execution_count": null,
   "metadata": {},
   "outputs": [],
   "source": [
    "# Forecasting on Stationarity using ARIMA model\n",
    "\n",
    "# Fit ARIMA model\n",
    "model = ARIMA(train, order=(5,1,0))  # Example order (p=5, d=1, q=0)\n",
    "model_fit = model.fit()\n",
    "\n",
    "# Forecast\n",
    "forecast_index = test.index  # Use the index of the test data\n",
    "forecast = model_fit.forecast(steps=len(test), index=forecast_index)\n",
    "\n",
    "# Evaluate\n",
    "mse = mean_squared_error(test, forecast)\n",
    "print('Mean Squared Error:', mse)"
   ]
  },
  {
   "cell_type": "code",
   "execution_count": null,
   "metadata": {},
   "outputs": [],
   "source": [
    "df_new = df[['Date', 'Close']]\n",
    "df_new.set_index('Date', inplace=True)"
   ]
  },
  {
   "cell_type": "code",
   "execution_count": null,
   "metadata": {},
   "outputs": [],
   "source": [
    "def df_to_windowed_df(dataframe, first_date_str, last_date_str, n=3):\n",
    "    first_date = pd.to_datetime(first_date_str)\n",
    "    last_date = pd.to_datetime(last_date_str)\n",
    "\n",
    "    target_date = first_date\n",
    "\n",
    "    dates = []\n",
    "    X, Y = [], []\n",
    "\n",
    "    last_time = False\n",
    "    while True:\n",
    "        # Convert target_date to a Timestamp object for comparison\n",
    "        target_date_timestamp = pd.Timestamp(target_date)\n",
    "\n",
    "        # Subset the DataFrame based on the comparison\n",
    "        df_subset = dataframe.loc[dataframe.index <= target_date_timestamp].tail(n + 1)\n",
    "\n",
    "        values = df_subset['Close'].to_numpy()\n",
    "        x, y = values[:-1], values[-1]\n",
    "\n",
    "        dates.append(target_date)\n",
    "        X.append(x)\n",
    "        Y.append(y)\n",
    "\n",
    "        next_date = target_date + datetime.timedelta(days=1)\n",
    "        if next_date > last_date:\n",
    "            last_time = True\n",
    "\n",
    "        target_date = next_date\n",
    "\n",
    "        if last_time:\n",
    "            break\n",
    "\n",
    "    ret_df = pd.DataFrame({})\n",
    "    ret_df['Target Date'] = dates\n",
    "\n",
    "    X = np.array(X)\n",
    "\n",
    "    for i in range(0, n):\n",
    "        X[:, i]\n",
    "        ret_df[f'Target-{n - i}'] = X[:, i]\n",
    "\n",
    "    ret_df['Target'] = Y\n",
    "\n",
    "    return ret_df"
   ]
  },
  {
   "cell_type": "code",
   "execution_count": null,
   "metadata": {},
   "outputs": [],
   "source": [
    "def windowed_df_to_date_X_y(windowed_dataframe):\n",
    "  df_as_np = windowed_dataframe.to_numpy()\n",
    "\n",
    "  dates = df_as_np[:, 0]\n",
    "\n",
    "  middle_matrix = df_as_np[:, 1:-1]\n",
    "  X = middle_matrix.reshape((len(dates), middle_matrix.shape[1], 1))\n",
    "\n",
    "  Y = df_as_np[:, -1]\n",
    "\n",
    "  return dates, X.astype(np.float32), Y.astype(np.float32)"
   ]
  },
  {
   "cell_type": "code",
   "execution_count": null,
   "metadata": {},
   "outputs": [],
   "source": [
    "def plot_predictions(X_train, y_train, X_val, y_val, X_test, y_test, model, dates_train, dates_val, dates_test):\n",
    "    train_predictions = model.predict(X_train).flatten()\n",
    "    val_predictions = model.predict(X_val).flatten()\n",
    "    test_predictions = model.predict(X_test).flatten()\n",
    "\n",
    "    plt.plot(dates_train, train_predictions)\n",
    "    plt.plot(dates_train, y_train)\n",
    "    plt.plot(dates_val, val_predictions)\n",
    "    plt.plot(dates_val, y_val)\n",
    "    plt.plot(dates_test, test_predictions)\n",
    "    plt.plot(dates_test, y_test)\n",
    "    plt.legend(['Training Predictions', \n",
    "                'Training Observations',\n",
    "                'Validation Predictions', \n",
    "                'Validation Observations',\n",
    "                'Testing Predictions', \n",
    "                'Testing Observations'])\n",
    "    plt.show()"
   ]
  },
  {
   "cell_type": "code",
   "execution_count": null,
   "metadata": {},
   "outputs": [],
   "source": [
    "model = Sequential([layers.Input((3, 1)),\n",
    "\t\t\t\tlayers.LSTM(64),\n",
    "\t\t\t\tlayers.dropout(0.2),\n",
    "\t\t\t\tlayers.Dense(32, activation='relu'),\n",
    "\t\t\t\tlayers.dropout(0.2),\n",
    "\t\t\t\tlayers.Dense(32, activation='relu'),\n",
    "\t\t\t\tlayers.Dense(1)])\t\n",
    "\n",
    "model.compile(loss=\"mean_squared_error\",\n",
    "\t\t\toptimizer=Adam(learning_rate=0.001),\n",
    "\t\t\tmetrics=[RootMeanSquaredError(), MeanAbsoluteError()])\n",
    "\n",
    "es_callback = tf.keras.callbacks.EarlyStopping(monitor='val_root_mean_squared_error', patience=10, mode='min', restore_best_weights=True)"
   ]
  },
  {
   "cell_type": "code",
   "execution_count": null,
   "metadata": {},
   "outputs": [],
   "source": [
    "windowed_df = df_to_windowed_df(df_new, '2021-01-01', '2024-03-04', n=3)\n",
    "\n",
    "dates, X, y = windowed_df_to_date_X_y(windowed_df)\n",
    "\n",
    "q_80 = int(len(dates) * .8); q_90 = int(len(dates) * .9)\n",
    "\n",
    "dates_train, X_train, y_train = dates[:q_80], X[:q_80], y[:q_80]\n",
    "dates_val, X_val, y_val = dates[q_80:q_90], X[q_80:q_90], y[q_80:q_90]\n",
    "dates_test, X_test, y_test = dates[q_90:], X[q_90:], y[q_90:]\n",
    "\n",
    "model.fit(X_train, y_train, validation_data=(X_test, y_test), epochs=30, batch_size=128, verbose=1, callbacks=[es_callback])\n",
    "\n",
    "plot_predictions(X_train, y_train, X_val, y_val, X_test, y_test, model, dates_train, dates_val, dates_test)"
   ]
  },
  {
   "cell_type": "code",
   "execution_count": null,
   "metadata": {},
   "outputs": [],
   "source": [
    "from copy import deepcopy\n",
    "\n",
    "recursive_predictions = []\n",
    "recursive_dates = np.concatenate([dates_val, dates_test])\n",
    "\n",
    "for target_date in recursive_dates:\n",
    "  last_window = deepcopy(X_train[-1])\n",
    "  next_prediction = model.predict(np.array([last_window])).flatten()\n",
    "  recursive_predictions.append(next_prediction)\n",
    "  last_window[-1] = next_prediction"
   ]
  },
  {
   "cell_type": "code",
   "execution_count": null,
   "metadata": {},
   "outputs": [
    {
     "ename": "",
     "evalue": "",
     "output_type": "error",
     "traceback": [
      "\u001b[1;31mThe Kernel crashed while executing code in the current cell or a previous cell. \n",
      "\u001b[1;31mPlease review the code in the cell(s) to identify a possible cause of the failure. \n",
      "\u001b[1;31mClick <a href='https://aka.ms/vscodeJupyterKernelCrash'>here</a> for more info. \n",
      "\u001b[1;31mView Jupyter <a href='command:jupyter.viewOutput'>log</a> for further details."
     ]
    }
   ],
   "source": [
    "windowed_df = df_to_windowed_df(df_new, '2021-01-01', '2024-03-04', n=3)\n",
    "\n",
    "dates, X, y = windowed_df_to_date_X_y(windowed_df)\n",
    "\n",
    "dates_train, X_train, y_train = dates[:q_80], X[:q_80], y[:q_80]\n",
    "dates_val, X_val, y_val = dates[q_80:q_90], X[q_80:q_90], y[q_80:q_90]\n",
    "dates_test, X_test, y_test = dates[q_90:], X[q_90:], y[q_90:]\n",
    "\n",
    "model.fit(X_train, y_train, validation_data=(X_val, y_val), epochs=100)"
   ]
  },
  {
   "cell_type": "code",
   "execution_count": null,
   "metadata": {},
   "outputs": [],
   "source": [
    "train_predictions = model.predict(X_train).flatten()\n",
    "val_predictions = model.predict(X_val).flatten()\n",
    "test_predictions = model.predict(X_test).flatten()\n",
    "\n",
    "plt.plot(dates_train, train_predictions)\n",
    "plt.plot(dates_train, y_train)\n",
    "plt.plot(dates_val, val_predictions)\n",
    "plt.plot(dates_val, y_val)\n",
    "plt.plot(dates_test, test_predictions)\n",
    "plt.plot(dates_test, y_test)\n",
    "plt.legend(['Training Predictions', \n",
    "            'Training Observations',\n",
    "            'Validation Predictions', \n",
    "            'Validation Observations',\n",
    "            'Testing Predictions', \n",
    "            'Testing Observations'])"
   ]
  },
  {
   "cell_type": "code",
   "execution_count": null,
   "metadata": {},
   "outputs": [],
   "source": []
  }
 ],
 "metadata": {
  "kernelspec": {
   "display_name": "Python 3",
   "language": "python",
   "name": "python3"
  },
  "language_info": {
   "codemirror_mode": {
    "name": "ipython",
    "version": 3
   },
   "file_extension": ".py",
   "mimetype": "text/x-python",
   "name": "python",
   "nbconvert_exporter": "python",
   "pygments_lexer": "ipython3",
   "version": "3.11.7"
  }
 },
 "nbformat": 4,
 "nbformat_minor": 2
}
